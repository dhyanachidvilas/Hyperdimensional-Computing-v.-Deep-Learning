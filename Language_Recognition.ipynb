{
  "cells": [
    {
      "cell_type": "markdown",
      "source": [
        "# Imports\n"
      ],
      "metadata": {
        "id": "0P5tPVMzfPYh"
      }
    },
    {
      "cell_type": "code",
      "execution_count": null,
      "metadata": {
        "id": "NPvwF6utWKEC"
      },
      "outputs": [],
      "source": [
        "import re\n",
        "import string\n",
        "import pandas as pd\n",
        "import seaborn as sns\n",
        "import warnings\n",
        "import time\n",
        "import math\n",
        "import random\n",
        "import matplotlib.pyplot as plt\n",
        "import matplotlib"
      ]
    },
    {
      "cell_type": "code",
      "source": [
        "from google.colab import drive\n",
        "drive.mount('/content/drive')"
      ],
      "metadata": {
        "colab": {
          "base_uri": "https://localhost:8080/"
        },
        "id": "ykUkxkONY9hq",
        "outputId": "071c3559-cfcb-4666-b27d-77b72ee1e62e"
      },
      "execution_count": null,
      "outputs": [
        {
          "output_type": "stream",
          "name": "stdout",
          "text": [
            "Mounted at /content/drive\n"
          ]
        }
      ]
    },
    {
      "cell_type": "code",
      "execution_count": null,
      "metadata": {
        "id": "57rmIj3RWfi8",
        "colab": {
          "base_uri": "https://localhost:8080/",
          "height": 381
        },
        "outputId": "1391ecce-4c58-4943-b6fb-7d06dec41657"
      },
      "outputs": [
        {
          "output_type": "error",
          "ename": "FileNotFoundError",
          "evalue": "ignored",
          "traceback": [
            "\u001b[0;31m---------------------------------------------------------------------------\u001b[0m",
            "\u001b[0;31mFileNotFoundError\u001b[0m                         Traceback (most recent call last)",
            "\u001b[0;32m<ipython-input-3-e36ca632ee08>\u001b[0m in \u001b[0;36m<cell line: 1>\u001b[0;34m()\u001b[0m\n\u001b[0;32m----> 1\u001b[0;31m \u001b[0mdf_train\u001b[0m \u001b[0;34m=\u001b[0m \u001b[0mpd\u001b[0m\u001b[0;34m.\u001b[0m\u001b[0mread_csv\u001b[0m\u001b[0;34m(\u001b[0m\u001b[0;34m'/content/drive/MyDrive/Laptop data/4-1/SoP/Lang_Detection/NewData/archive/Language Detection.csv'\u001b[0m\u001b[0;34m)\u001b[0m\u001b[0;34m\u001b[0m\u001b[0;34m\u001b[0m\u001b[0m\n\u001b[0m\u001b[1;32m      2\u001b[0m \u001b[0mdf_train\u001b[0m\u001b[0;34m.\u001b[0m\u001b[0mhead\u001b[0m\u001b[0;34m(\u001b[0m\u001b[0;34m)\u001b[0m\u001b[0;34m\u001b[0m\u001b[0;34m\u001b[0m\u001b[0m\n",
            "\u001b[0;32m/usr/local/lib/python3.10/dist-packages/pandas/util/_decorators.py\u001b[0m in \u001b[0;36mwrapper\u001b[0;34m(*args, **kwargs)\u001b[0m\n\u001b[1;32m    209\u001b[0m                 \u001b[0;32melse\u001b[0m\u001b[0;34m:\u001b[0m\u001b[0;34m\u001b[0m\u001b[0;34m\u001b[0m\u001b[0m\n\u001b[1;32m    210\u001b[0m                     \u001b[0mkwargs\u001b[0m\u001b[0;34m[\u001b[0m\u001b[0mnew_arg_name\u001b[0m\u001b[0;34m]\u001b[0m \u001b[0;34m=\u001b[0m \u001b[0mnew_arg_value\u001b[0m\u001b[0;34m\u001b[0m\u001b[0;34m\u001b[0m\u001b[0m\n\u001b[0;32m--> 211\u001b[0;31m             \u001b[0;32mreturn\u001b[0m \u001b[0mfunc\u001b[0m\u001b[0;34m(\u001b[0m\u001b[0;34m*\u001b[0m\u001b[0margs\u001b[0m\u001b[0;34m,\u001b[0m \u001b[0;34m**\u001b[0m\u001b[0mkwargs\u001b[0m\u001b[0;34m)\u001b[0m\u001b[0;34m\u001b[0m\u001b[0;34m\u001b[0m\u001b[0m\n\u001b[0m\u001b[1;32m    212\u001b[0m \u001b[0;34m\u001b[0m\u001b[0m\n\u001b[1;32m    213\u001b[0m         \u001b[0;32mreturn\u001b[0m \u001b[0mcast\u001b[0m\u001b[0;34m(\u001b[0m\u001b[0mF\u001b[0m\u001b[0;34m,\u001b[0m \u001b[0mwrapper\u001b[0m\u001b[0;34m)\u001b[0m\u001b[0;34m\u001b[0m\u001b[0;34m\u001b[0m\u001b[0m\n",
            "\u001b[0;32m/usr/local/lib/python3.10/dist-packages/pandas/util/_decorators.py\u001b[0m in \u001b[0;36mwrapper\u001b[0;34m(*args, **kwargs)\u001b[0m\n\u001b[1;32m    329\u001b[0m                     \u001b[0mstacklevel\u001b[0m\u001b[0;34m=\u001b[0m\u001b[0mfind_stack_level\u001b[0m\u001b[0;34m(\u001b[0m\u001b[0;34m)\u001b[0m\u001b[0;34m,\u001b[0m\u001b[0;34m\u001b[0m\u001b[0;34m\u001b[0m\u001b[0m\n\u001b[1;32m    330\u001b[0m                 )\n\u001b[0;32m--> 331\u001b[0;31m             \u001b[0;32mreturn\u001b[0m \u001b[0mfunc\u001b[0m\u001b[0;34m(\u001b[0m\u001b[0;34m*\u001b[0m\u001b[0margs\u001b[0m\u001b[0;34m,\u001b[0m \u001b[0;34m**\u001b[0m\u001b[0mkwargs\u001b[0m\u001b[0;34m)\u001b[0m\u001b[0;34m\u001b[0m\u001b[0;34m\u001b[0m\u001b[0m\n\u001b[0m\u001b[1;32m    332\u001b[0m \u001b[0;34m\u001b[0m\u001b[0m\n\u001b[1;32m    333\u001b[0m         \u001b[0;31m# error: \"Callable[[VarArg(Any), KwArg(Any)], Any]\" has no\u001b[0m\u001b[0;34m\u001b[0m\u001b[0;34m\u001b[0m\u001b[0m\n",
            "\u001b[0;32m/usr/local/lib/python3.10/dist-packages/pandas/io/parsers/readers.py\u001b[0m in \u001b[0;36mread_csv\u001b[0;34m(filepath_or_buffer, sep, delimiter, header, names, index_col, usecols, squeeze, prefix, mangle_dupe_cols, dtype, engine, converters, true_values, false_values, skipinitialspace, skiprows, skipfooter, nrows, na_values, keep_default_na, na_filter, verbose, skip_blank_lines, parse_dates, infer_datetime_format, keep_date_col, date_parser, dayfirst, cache_dates, iterator, chunksize, compression, thousands, decimal, lineterminator, quotechar, quoting, doublequote, escapechar, comment, encoding, encoding_errors, dialect, error_bad_lines, warn_bad_lines, on_bad_lines, delim_whitespace, low_memory, memory_map, float_precision, storage_options)\u001b[0m\n\u001b[1;32m    948\u001b[0m     \u001b[0mkwds\u001b[0m\u001b[0;34m.\u001b[0m\u001b[0mupdate\u001b[0m\u001b[0;34m(\u001b[0m\u001b[0mkwds_defaults\u001b[0m\u001b[0;34m)\u001b[0m\u001b[0;34m\u001b[0m\u001b[0;34m\u001b[0m\u001b[0m\n\u001b[1;32m    949\u001b[0m \u001b[0;34m\u001b[0m\u001b[0m\n\u001b[0;32m--> 950\u001b[0;31m     \u001b[0;32mreturn\u001b[0m \u001b[0m_read\u001b[0m\u001b[0;34m(\u001b[0m\u001b[0mfilepath_or_buffer\u001b[0m\u001b[0;34m,\u001b[0m \u001b[0mkwds\u001b[0m\u001b[0;34m)\u001b[0m\u001b[0;34m\u001b[0m\u001b[0;34m\u001b[0m\u001b[0m\n\u001b[0m\u001b[1;32m    951\u001b[0m \u001b[0;34m\u001b[0m\u001b[0m\n\u001b[1;32m    952\u001b[0m \u001b[0;34m\u001b[0m\u001b[0m\n",
            "\u001b[0;32m/usr/local/lib/python3.10/dist-packages/pandas/io/parsers/readers.py\u001b[0m in \u001b[0;36m_read\u001b[0;34m(filepath_or_buffer, kwds)\u001b[0m\n\u001b[1;32m    603\u001b[0m \u001b[0;34m\u001b[0m\u001b[0m\n\u001b[1;32m    604\u001b[0m     \u001b[0;31m# Create the parser.\u001b[0m\u001b[0;34m\u001b[0m\u001b[0;34m\u001b[0m\u001b[0m\n\u001b[0;32m--> 605\u001b[0;31m     \u001b[0mparser\u001b[0m \u001b[0;34m=\u001b[0m \u001b[0mTextFileReader\u001b[0m\u001b[0;34m(\u001b[0m\u001b[0mfilepath_or_buffer\u001b[0m\u001b[0;34m,\u001b[0m \u001b[0;34m**\u001b[0m\u001b[0mkwds\u001b[0m\u001b[0;34m)\u001b[0m\u001b[0;34m\u001b[0m\u001b[0;34m\u001b[0m\u001b[0m\n\u001b[0m\u001b[1;32m    606\u001b[0m \u001b[0;34m\u001b[0m\u001b[0m\n\u001b[1;32m    607\u001b[0m     \u001b[0;32mif\u001b[0m \u001b[0mchunksize\u001b[0m \u001b[0;32mor\u001b[0m \u001b[0miterator\u001b[0m\u001b[0;34m:\u001b[0m\u001b[0;34m\u001b[0m\u001b[0;34m\u001b[0m\u001b[0m\n",
            "\u001b[0;32m/usr/local/lib/python3.10/dist-packages/pandas/io/parsers/readers.py\u001b[0m in \u001b[0;36m__init__\u001b[0;34m(self, f, engine, **kwds)\u001b[0m\n\u001b[1;32m   1440\u001b[0m \u001b[0;34m\u001b[0m\u001b[0m\n\u001b[1;32m   1441\u001b[0m         \u001b[0mself\u001b[0m\u001b[0;34m.\u001b[0m\u001b[0mhandles\u001b[0m\u001b[0;34m:\u001b[0m \u001b[0mIOHandles\u001b[0m \u001b[0;34m|\u001b[0m \u001b[0;32mNone\u001b[0m \u001b[0;34m=\u001b[0m \u001b[0;32mNone\u001b[0m\u001b[0;34m\u001b[0m\u001b[0;34m\u001b[0m\u001b[0m\n\u001b[0;32m-> 1442\u001b[0;31m         \u001b[0mself\u001b[0m\u001b[0;34m.\u001b[0m\u001b[0m_engine\u001b[0m \u001b[0;34m=\u001b[0m \u001b[0mself\u001b[0m\u001b[0;34m.\u001b[0m\u001b[0m_make_engine\u001b[0m\u001b[0;34m(\u001b[0m\u001b[0mf\u001b[0m\u001b[0;34m,\u001b[0m \u001b[0mself\u001b[0m\u001b[0;34m.\u001b[0m\u001b[0mengine\u001b[0m\u001b[0;34m)\u001b[0m\u001b[0;34m\u001b[0m\u001b[0;34m\u001b[0m\u001b[0m\n\u001b[0m\u001b[1;32m   1443\u001b[0m \u001b[0;34m\u001b[0m\u001b[0m\n\u001b[1;32m   1444\u001b[0m     \u001b[0;32mdef\u001b[0m \u001b[0mclose\u001b[0m\u001b[0;34m(\u001b[0m\u001b[0mself\u001b[0m\u001b[0;34m)\u001b[0m \u001b[0;34m->\u001b[0m \u001b[0;32mNone\u001b[0m\u001b[0;34m:\u001b[0m\u001b[0;34m\u001b[0m\u001b[0;34m\u001b[0m\u001b[0m\n",
            "\u001b[0;32m/usr/local/lib/python3.10/dist-packages/pandas/io/parsers/readers.py\u001b[0m in \u001b[0;36m_make_engine\u001b[0;34m(self, f, engine)\u001b[0m\n\u001b[1;32m   1733\u001b[0m                 \u001b[0;32mif\u001b[0m \u001b[0;34m\"b\"\u001b[0m \u001b[0;32mnot\u001b[0m \u001b[0;32min\u001b[0m \u001b[0mmode\u001b[0m\u001b[0;34m:\u001b[0m\u001b[0;34m\u001b[0m\u001b[0;34m\u001b[0m\u001b[0m\n\u001b[1;32m   1734\u001b[0m                     \u001b[0mmode\u001b[0m \u001b[0;34m+=\u001b[0m \u001b[0;34m\"b\"\u001b[0m\u001b[0;34m\u001b[0m\u001b[0;34m\u001b[0m\u001b[0m\n\u001b[0;32m-> 1735\u001b[0;31m             self.handles = get_handle(\n\u001b[0m\u001b[1;32m   1736\u001b[0m                 \u001b[0mf\u001b[0m\u001b[0;34m,\u001b[0m\u001b[0;34m\u001b[0m\u001b[0;34m\u001b[0m\u001b[0m\n\u001b[1;32m   1737\u001b[0m                 \u001b[0mmode\u001b[0m\u001b[0;34m,\u001b[0m\u001b[0;34m\u001b[0m\u001b[0;34m\u001b[0m\u001b[0m\n",
            "\u001b[0;32m/usr/local/lib/python3.10/dist-packages/pandas/io/common.py\u001b[0m in \u001b[0;36mget_handle\u001b[0;34m(path_or_buf, mode, encoding, compression, memory_map, is_text, errors, storage_options)\u001b[0m\n\u001b[1;32m    854\u001b[0m         \u001b[0;32mif\u001b[0m \u001b[0mioargs\u001b[0m\u001b[0;34m.\u001b[0m\u001b[0mencoding\u001b[0m \u001b[0;32mand\u001b[0m \u001b[0;34m\"b\"\u001b[0m \u001b[0;32mnot\u001b[0m \u001b[0;32min\u001b[0m \u001b[0mioargs\u001b[0m\u001b[0;34m.\u001b[0m\u001b[0mmode\u001b[0m\u001b[0;34m:\u001b[0m\u001b[0;34m\u001b[0m\u001b[0;34m\u001b[0m\u001b[0m\n\u001b[1;32m    855\u001b[0m             \u001b[0;31m# Encoding\u001b[0m\u001b[0;34m\u001b[0m\u001b[0;34m\u001b[0m\u001b[0m\n\u001b[0;32m--> 856\u001b[0;31m             handle = open(\n\u001b[0m\u001b[1;32m    857\u001b[0m                 \u001b[0mhandle\u001b[0m\u001b[0;34m,\u001b[0m\u001b[0;34m\u001b[0m\u001b[0;34m\u001b[0m\u001b[0m\n\u001b[1;32m    858\u001b[0m                 \u001b[0mioargs\u001b[0m\u001b[0;34m.\u001b[0m\u001b[0mmode\u001b[0m\u001b[0;34m,\u001b[0m\u001b[0;34m\u001b[0m\u001b[0;34m\u001b[0m\u001b[0m\n",
            "\u001b[0;31mFileNotFoundError\u001b[0m: [Errno 2] No such file or directory: '/content/drive/MyDrive/Laptop data/4-1/SoP/Lang_Detection/NewData/archive/Language Detection.csv'"
          ]
        }
      ],
      "source": [
        "df_train = pd.read_csv('/content/drive/MyDrive/Laptop data/4-1/SoP/Lang_Detection/NewData/archive/Language Detection.csv')\n",
        "df_train.head()"
      ]
    },
    {
      "cell_type": "code",
      "source": [
        "df_train.Language.value_counts()"
      ],
      "metadata": {
        "colab": {
          "base_uri": "https://localhost:8080/"
        },
        "id": "yI6CmrM-Zbrw",
        "outputId": "2ffbfdbc-2624-42e2-ab47-7aab3be7ad53"
      },
      "execution_count": null,
      "outputs": [
        {
          "output_type": "execute_result",
          "data": {
            "text/plain": [
              "English       1385\n",
              "French        1014\n",
              "Spanish        819\n",
              "Portugeese     739\n",
              "Italian        698\n",
              "Russian        692\n",
              "Sweedish       676\n",
              "Malayalam      594\n",
              "Dutch          546\n",
              "Arabic         536\n",
              "Turkish        474\n",
              "German         470\n",
              "Tamil          469\n",
              "Danish         428\n",
              "Kannada        369\n",
              "Greek          365\n",
              "Hindi           63\n",
              "Name: Language, dtype: int64"
            ]
          },
          "metadata": {},
          "execution_count": 14
        }
      ]
    },
    {
      "cell_type": "code",
      "source": [
        "df_train.shape"
      ],
      "metadata": {
        "colab": {
          "base_uri": "https://localhost:8080/"
        },
        "id": "G2aLIAxWZsax",
        "outputId": "3c6d1272-8cd7-4445-8ec3-1b46a95f6679"
      },
      "execution_count": null,
      "outputs": [
        {
          "output_type": "execute_result",
          "data": {
            "text/plain": [
              "(10337, 2)"
            ]
          },
          "metadata": {},
          "execution_count": 5
        }
      ]
    },
    {
      "cell_type": "markdown",
      "metadata": {
        "id": "d3nnoYvBZmNw"
      },
      "source": [
        "# getting only latin derived"
      ]
    },
    {
      "cell_type": "code",
      "execution_count": null,
      "metadata": {
        "id": "GeuevFPyZrDy",
        "colab": {
          "base_uri": "https://localhost:8080/",
          "height": 206
        },
        "outputId": "63c34262-c559-43a6-e129-9b52ebcfd161"
      },
      "outputs": [
        {
          "output_type": "execute_result",
          "data": {
            "text/plain": [
              "                                                Text Language\n",
              "0   Nature, in the broadest sense, is the natural...  English\n",
              "1  \"Nature\" can refer to the phenomena of the phy...  English\n",
              "2  The study of nature is a large, if not the onl...  English\n",
              "3  Although humans are part of nature, human acti...  English\n",
              "4  [1] The word nature is borrowed from the Old F...  English"
            ],
            "text/html": [
              "\n",
              "  <div id=\"df-e5c4fbc3-11fc-4875-b501-9a887f4d7373\">\n",
              "    <div class=\"colab-df-container\">\n",
              "      <div>\n",
              "<style scoped>\n",
              "    .dataframe tbody tr th:only-of-type {\n",
              "        vertical-align: middle;\n",
              "    }\n",
              "\n",
              "    .dataframe tbody tr th {\n",
              "        vertical-align: top;\n",
              "    }\n",
              "\n",
              "    .dataframe thead th {\n",
              "        text-align: right;\n",
              "    }\n",
              "</style>\n",
              "<table border=\"1\" class=\"dataframe\">\n",
              "  <thead>\n",
              "    <tr style=\"text-align: right;\">\n",
              "      <th></th>\n",
              "      <th>Text</th>\n",
              "      <th>Language</th>\n",
              "    </tr>\n",
              "  </thead>\n",
              "  <tbody>\n",
              "    <tr>\n",
              "      <th>0</th>\n",
              "      <td>Nature, in the broadest sense, is the natural...</td>\n",
              "      <td>English</td>\n",
              "    </tr>\n",
              "    <tr>\n",
              "      <th>1</th>\n",
              "      <td>\"Nature\" can refer to the phenomena of the phy...</td>\n",
              "      <td>English</td>\n",
              "    </tr>\n",
              "    <tr>\n",
              "      <th>2</th>\n",
              "      <td>The study of nature is a large, if not the onl...</td>\n",
              "      <td>English</td>\n",
              "    </tr>\n",
              "    <tr>\n",
              "      <th>3</th>\n",
              "      <td>Although humans are part of nature, human acti...</td>\n",
              "      <td>English</td>\n",
              "    </tr>\n",
              "    <tr>\n",
              "      <th>4</th>\n",
              "      <td>[1] The word nature is borrowed from the Old F...</td>\n",
              "      <td>English</td>\n",
              "    </tr>\n",
              "  </tbody>\n",
              "</table>\n",
              "</div>\n",
              "      <button class=\"colab-df-convert\" onclick=\"convertToInteractive('df-e5c4fbc3-11fc-4875-b501-9a887f4d7373')\"\n",
              "              title=\"Convert this dataframe to an interactive table.\"\n",
              "              style=\"display:none;\">\n",
              "        \n",
              "  <svg xmlns=\"http://www.w3.org/2000/svg\" height=\"24px\"viewBox=\"0 0 24 24\"\n",
              "       width=\"24px\">\n",
              "    <path d=\"M0 0h24v24H0V0z\" fill=\"none\"/>\n",
              "    <path d=\"M18.56 5.44l.94 2.06.94-2.06 2.06-.94-2.06-.94-.94-2.06-.94 2.06-2.06.94zm-11 1L8.5 8.5l.94-2.06 2.06-.94-2.06-.94L8.5 2.5l-.94 2.06-2.06.94zm10 10l.94 2.06.94-2.06 2.06-.94-2.06-.94-.94-2.06-.94 2.06-2.06.94z\"/><path d=\"M17.41 7.96l-1.37-1.37c-.4-.4-.92-.59-1.43-.59-.52 0-1.04.2-1.43.59L10.3 9.45l-7.72 7.72c-.78.78-.78 2.05 0 2.83L4 21.41c.39.39.9.59 1.41.59.51 0 1.02-.2 1.41-.59l7.78-7.78 2.81-2.81c.8-.78.8-2.07 0-2.86zM5.41 20L4 18.59l7.72-7.72 1.47 1.35L5.41 20z\"/>\n",
              "  </svg>\n",
              "      </button>\n",
              "      \n",
              "  <style>\n",
              "    .colab-df-container {\n",
              "      display:flex;\n",
              "      flex-wrap:wrap;\n",
              "      gap: 12px;\n",
              "    }\n",
              "\n",
              "    .colab-df-convert {\n",
              "      background-color: #E8F0FE;\n",
              "      border: none;\n",
              "      border-radius: 50%;\n",
              "      cursor: pointer;\n",
              "      display: none;\n",
              "      fill: #1967D2;\n",
              "      height: 32px;\n",
              "      padding: 0 0 0 0;\n",
              "      width: 32px;\n",
              "    }\n",
              "\n",
              "    .colab-df-convert:hover {\n",
              "      background-color: #E2EBFA;\n",
              "      box-shadow: 0px 1px 2px rgba(60, 64, 67, 0.3), 0px 1px 3px 1px rgba(60, 64, 67, 0.15);\n",
              "      fill: #174EA6;\n",
              "    }\n",
              "\n",
              "    [theme=dark] .colab-df-convert {\n",
              "      background-color: #3B4455;\n",
              "      fill: #D2E3FC;\n",
              "    }\n",
              "\n",
              "    [theme=dark] .colab-df-convert:hover {\n",
              "      background-color: #434B5C;\n",
              "      box-shadow: 0px 1px 3px 1px rgba(0, 0, 0, 0.15);\n",
              "      filter: drop-shadow(0px 1px 2px rgba(0, 0, 0, 0.3));\n",
              "      fill: #FFFFFF;\n",
              "    }\n",
              "  </style>\n",
              "\n",
              "      <script>\n",
              "        const buttonEl =\n",
              "          document.querySelector('#df-e5c4fbc3-11fc-4875-b501-9a887f4d7373 button.colab-df-convert');\n",
              "        buttonEl.style.display =\n",
              "          google.colab.kernel.accessAllowed ? 'block' : 'none';\n",
              "\n",
              "        async function convertToInteractive(key) {\n",
              "          const element = document.querySelector('#df-e5c4fbc3-11fc-4875-b501-9a887f4d7373');\n",
              "          const dataTable =\n",
              "            await google.colab.kernel.invokeFunction('convertToInteractive',\n",
              "                                                     [key], {});\n",
              "          if (!dataTable) return;\n",
              "\n",
              "          const docLinkHtml = 'Like what you see? Visit the ' +\n",
              "            '<a target=\"_blank\" href=https://colab.research.google.com/notebooks/data_table.ipynb>data table notebook</a>'\n",
              "            + ' to learn more about interactive tables.';\n",
              "          element.innerHTML = '';\n",
              "          dataTable['output_type'] = 'display_data';\n",
              "          await google.colab.output.renderOutput(dataTable, element);\n",
              "          const docLink = document.createElement('div');\n",
              "          docLink.innerHTML = docLinkHtml;\n",
              "          element.appendChild(docLink);\n",
              "        }\n",
              "      </script>\n",
              "    </div>\n",
              "  </div>\n",
              "  "
            ]
          },
          "metadata": {},
          "execution_count": 17
        }
      ],
      "source": [
        "latin_derived = {\"English\", \"French\", \"Spanish\", \"Portugeese\", \"Italian\", \"Russian\", \"Sweedish\", \"Dutch\", \"Turkish\", \"German\", \"Danish\"}\n",
        "\n",
        "df_new = pd.DataFrame(columns = [\"Text\", \"Language\"])\n",
        "df = df_train\n",
        "for i in range(df.shape[0]):\n",
        "    if(df.at[i, 'Language'] in latin_derived):\n",
        "        df_new.loc[len(df_new.index)] = [df.at[i, 'Text'], df.at[i, 'Language']]\n",
        "\n",
        "df_new.head()"
      ]
    },
    {
      "cell_type": "markdown",
      "metadata": {
        "id": "kpUo87tGZNEI"
      },
      "source": [
        "# Data Pre Processing\n"
      ]
    },
    {
      "cell_type": "code",
      "execution_count": null,
      "metadata": {
        "colab": {
          "base_uri": "https://localhost:8080/"
        },
        "id": "YlMmhIb2ZQNB",
        "outputId": "f476f8f7-4fca-4cc0-cc6f-b2f8dbfd3bfb"
      },
      "outputs": [
        {
          "output_type": "execute_result",
          "data": {
            "text/plain": [
              "English       1385\n",
              "French        1014\n",
              "Spanish        819\n",
              "Portugeese     739\n",
              "Italian        698\n",
              "Russian        692\n",
              "Sweedish       676\n",
              "Dutch          546\n",
              "Turkish        474\n",
              "German         470\n",
              "Danish         428\n",
              "Name: Language, dtype: int64"
            ]
          },
          "metadata": {},
          "execution_count": 30
        }
      ],
      "source": [
        "df_new.Language.value_counts()"
      ]
    },
    {
      "cell_type": "code",
      "source": [
        "df_new.hist(column='Language')"
      ],
      "metadata": {
        "colab": {
          "base_uri": "https://localhost:8080/",
          "height": 380
        },
        "id": "BXvk24qnb6V5",
        "outputId": "67089630-68e9-43f9-ed7e-74c25c62b11b"
      },
      "execution_count": null,
      "outputs": [
        {
          "output_type": "error",
          "ename": "ValueError",
          "evalue": "ignored",
          "traceback": [
            "\u001b[0;31m---------------------------------------------------------------------------\u001b[0m",
            "\u001b[0;31mValueError\u001b[0m                                Traceback (most recent call last)",
            "\u001b[0;32m<ipython-input-29-9741866c41d7>\u001b[0m in \u001b[0;36m<cell line: 1>\u001b[0;34m()\u001b[0m\n\u001b[0;32m----> 1\u001b[0;31m \u001b[0mdf_new\u001b[0m\u001b[0;34m.\u001b[0m\u001b[0mhist\u001b[0m\u001b[0;34m(\u001b[0m\u001b[0mcolumn\u001b[0m\u001b[0;34m=\u001b[0m\u001b[0;34m'Language'\u001b[0m\u001b[0;34m)\u001b[0m\u001b[0;34m\u001b[0m\u001b[0;34m\u001b[0m\u001b[0m\n\u001b[0m",
            "\u001b[0;32m/usr/local/lib/python3.10/dist-packages/pandas/plotting/_core.py\u001b[0m in \u001b[0;36mhist_frame\u001b[0;34m(data, column, by, grid, xlabelsize, xrot, ylabelsize, yrot, ax, sharex, sharey, figsize, layout, bins, backend, legend, **kwargs)\u001b[0m\n\u001b[1;32m    229\u001b[0m     \"\"\"\n\u001b[1;32m    230\u001b[0m     \u001b[0mplot_backend\u001b[0m \u001b[0;34m=\u001b[0m \u001b[0m_get_plot_backend\u001b[0m\u001b[0;34m(\u001b[0m\u001b[0mbackend\u001b[0m\u001b[0;34m)\u001b[0m\u001b[0;34m\u001b[0m\u001b[0;34m\u001b[0m\u001b[0m\n\u001b[0;32m--> 231\u001b[0;31m     return plot_backend.hist_frame(\n\u001b[0m\u001b[1;32m    232\u001b[0m         \u001b[0mdata\u001b[0m\u001b[0;34m,\u001b[0m\u001b[0;34m\u001b[0m\u001b[0;34m\u001b[0m\u001b[0m\n\u001b[1;32m    233\u001b[0m         \u001b[0mcolumn\u001b[0m\u001b[0;34m=\u001b[0m\u001b[0mcolumn\u001b[0m\u001b[0;34m,\u001b[0m\u001b[0;34m\u001b[0m\u001b[0;34m\u001b[0m\u001b[0m\n",
            "\u001b[0;32m/usr/local/lib/python3.10/dist-packages/pandas/plotting/_matplotlib/hist.py\u001b[0m in \u001b[0;36mhist_frame\u001b[0;34m(data, column, by, grid, xlabelsize, xrot, ylabelsize, yrot, ax, sharex, sharey, figsize, layout, bins, legend, **kwds)\u001b[0m\n\u001b[1;32m    497\u001b[0m \u001b[0;34m\u001b[0m\u001b[0m\n\u001b[1;32m    498\u001b[0m     \u001b[0;32mif\u001b[0m \u001b[0mnaxes\u001b[0m \u001b[0;34m==\u001b[0m \u001b[0;36m0\u001b[0m\u001b[0;34m:\u001b[0m\u001b[0;34m\u001b[0m\u001b[0;34m\u001b[0m\u001b[0m\n\u001b[0;32m--> 499\u001b[0;31m         raise ValueError(\n\u001b[0m\u001b[1;32m    500\u001b[0m             \u001b[0;34m\"hist method requires numerical or datetime columns, nothing to plot.\"\u001b[0m\u001b[0;34m\u001b[0m\u001b[0;34m\u001b[0m\u001b[0m\n\u001b[1;32m    501\u001b[0m         )\n",
            "\u001b[0;31mValueError\u001b[0m: hist method requires numerical or datetime columns, nothing to plot."
          ]
        }
      ]
    },
    {
      "cell_type": "code",
      "execution_count": null,
      "metadata": {
        "id": "uN24okxLgdBq"
      },
      "outputs": [],
      "source": [
        "def removeSymbolsAndNumbers(text):\n",
        "        text = re.sub(r'[{}]'.format(string.punctuation), '', text)\n",
        "        text = re.sub(r'\\d+', '', text)\n",
        "        text = re.sub(r'[@]', '', text)\n",
        "        text = text.replace('\"', '')\n",
        "        text = text.replace('\\\\', '')\n",
        "        text = text.replace('\\u2009', '')\n",
        "        text = text.replace('-', '')\n",
        "        text = text.replace('–', '')\n",
        "        text = text.replace('—', '')\n",
        "        text = text.replace('“', '')\n",
        "        text = text.replace('”', '')\n",
        "        text = text.replace('•', '')\n",
        "        text = text.replace('…', '')\n",
        "        text = text.replace('\\u202f', '')\n",
        "        text = text.replace('№', '')\n",
        "        text = text.replace('\\u200b', '')\n",
        "        text = text.replace('‑', '')\n",
        "        text = text.replace('’', '')\n",
        "        text = text.replace('€', '')\n",
        "        text = text.replace('„', '')\n",
        "        text = text.replace('⇒', '')\n",
        "        text = text.replace('\\n', '')\n",
        "        text = text.replace('\\xa0', '')\n",
        "        text = text.replace('£', '')\n",
        "        text = text.replace('«', '')\n",
        "        text = text.replace('°', '')\n",
        "        text = text.replace('º', '')\n",
        "        text = text.replace('·', '')\n",
        "        text = text.replace('»', '')\n",
        "        text = text.replace('¿', '')\n",
        "        text = text.replace('×', '')\n",
        "        text = text.replace('ˈ', '')\n",
        "        text = text.replace('ˌ', '')\n",
        "        text = text.replace('ː', '')\n",
        "        text = text.replace('́', '')\n",
        "        text = text.replace('̇', '')\n",
        "        text = text.replace('̇', '')\n",
        "        text = text.replace( '̇', '')\n",
        "        text = text.strip()\n",
        "        return text.lower()\n",
        "\n",
        "def removeEnglishLetters(text):\n",
        "        text = re.sub(r'[a-zA-Z]+', '', text)\n",
        "        return text.lower()\n",
        "\n"
      ]
    },
    {
      "cell_type": "code",
      "execution_count": null,
      "metadata": {
        "colab": {
          "base_uri": "https://localhost:8080/"
        },
        "id": "K63nnjPAeI2a",
        "outputId": "91ac6a5e-d758-4c5a-984f-25314164c312"
      },
      "outputs": [
        {
          "output_type": "execute_result",
          "data": {
            "text/plain": [
              "0    nature in the broadest sense is the natural ph...\n",
              "1    nature can refer to the phenomena of the physi...\n",
              "2    the study of nature is a large if not the only...\n",
              "3    although humans are part of nature human activ...\n",
              "4    the word nature is borrowed from the old frenc...\n",
              "Name: Text, dtype: object"
            ]
          },
          "metadata": {},
          "execution_count": 8
        }
      ],
      "source": [
        "df = df_new['Text'].apply(removeSymbolsAndNumbers)\n",
        "df.head()"
      ]
    },
    {
      "cell_type": "code",
      "execution_count": null,
      "metadata": {
        "id": "uQqFJlFNjJZh"
      },
      "outputs": [],
      "source": [
        "X = df\n",
        "y = df_new['Language']"
      ]
    },
    {
      "cell_type": "code",
      "execution_count": null,
      "metadata": {
        "colab": {
          "base_uri": "https://localhost:8080/"
        },
        "id": "kC59KoFLjWm5",
        "outputId": "957139f6-b57b-4944-87df-315eff335e80"
      },
      "outputs": [
        {
          "output_type": "execute_result",
          "data": {
            "text/plain": [
              "{' ',\n",
              " 'a',\n",
              " 'b',\n",
              " 'c',\n",
              " 'd',\n",
              " 'e',\n",
              " 'f',\n",
              " 'g',\n",
              " 'h',\n",
              " 'i',\n",
              " 'j',\n",
              " 'k',\n",
              " 'l',\n",
              " 'm',\n",
              " 'n',\n",
              " 'o',\n",
              " 'p',\n",
              " 'q',\n",
              " 'r',\n",
              " 's',\n",
              " 't',\n",
              " 'u',\n",
              " 'v',\n",
              " 'w',\n",
              " 'x',\n",
              " 'y',\n",
              " 'z',\n",
              " 'ß',\n",
              " 'à',\n",
              " 'á',\n",
              " 'â',\n",
              " 'ã',\n",
              " 'ä',\n",
              " 'å',\n",
              " 'æ',\n",
              " 'ç',\n",
              " 'è',\n",
              " 'é',\n",
              " 'ê',\n",
              " 'ë',\n",
              " 'ì',\n",
              " 'í',\n",
              " 'î',\n",
              " 'ï',\n",
              " 'ñ',\n",
              " 'ò',\n",
              " 'ó',\n",
              " 'ô',\n",
              " 'õ',\n",
              " 'ö',\n",
              " 'ø',\n",
              " 'ù',\n",
              " 'ú',\n",
              " 'û',\n",
              " 'ü',\n",
              " 'ć',\n",
              " 'ğ',\n",
              " 'ı',\n",
              " 'ń',\n",
              " 'ō',\n",
              " 'œ',\n",
              " 'ş',\n",
              " 'š',\n",
              " 'ə',\n",
              " 'ɛ',\n",
              " 'ɨ',\n",
              " 'ɪ',\n",
              " '̇',\n",
              " 'ί',\n",
              " 'α',\n",
              " 'δ',\n",
              " 'ε',\n",
              " 'ι',\n",
              " 'π',\n",
              " 'ς',\n",
              " 'σ',\n",
              " 'φ',\n",
              " 'ύ',\n",
              " 'а',\n",
              " 'б',\n",
              " 'в',\n",
              " 'г',\n",
              " 'д',\n",
              " 'е',\n",
              " 'ж',\n",
              " 'з',\n",
              " 'и',\n",
              " 'й',\n",
              " 'к',\n",
              " 'л',\n",
              " 'м',\n",
              " 'н',\n",
              " 'о',\n",
              " 'п',\n",
              " 'р',\n",
              " 'с',\n",
              " 'т',\n",
              " 'у',\n",
              " 'ф',\n",
              " 'х',\n",
              " 'ц',\n",
              " 'ч',\n",
              " 'ш',\n",
              " 'щ',\n",
              " 'ъ',\n",
              " 'ы',\n",
              " 'ь',\n",
              " 'э',\n",
              " 'ю',\n",
              " 'я',\n",
              " 'ё'}"
            ]
          },
          "metadata": {},
          "execution_count": 10
        }
      ],
      "source": [
        "all_char_list = {' '}\n",
        "\n",
        "for i in range(len(X)):\n",
        "  all_char_list = all_char_list.union(set(X[i]))\n",
        "\n",
        "\n",
        "all_char_list"
      ]
    },
    {
      "cell_type": "code",
      "execution_count": null,
      "metadata": {
        "id": "dVUe0qiTsVrX"
      },
      "outputs": [],
      "source": [
        "#Model Creation\n",
        "\n",
        "#creating all language vectors\n",
        "#avg num of word per sentences\n",
        "# 'English': 1385,\n",
        "# 'French': 1014,\n",
        "# 'Spanish': 819,\n",
        "# 'Portugeese': 739,\n",
        "# 'Italian': 698,\n",
        "# 'Russian': 692,\n",
        "# 'Sweedish': 676,\n",
        "# 'Dutch': 546,\n",
        "# 'Turkish': 474,\n",
        "# 'German': 470,\n",
        "# 'Danish': 428\n",
        "\n",
        "\n",
        "X_English = X[y == 'English'].reset_index().drop('index', axis = 1)[0:428]\n",
        "X_French = X[y == 'French'].reset_index().drop('index', axis = 1)[0:428]\n",
        "X_Spanish = X[y == 'Spanish'].reset_index().drop('index', axis = 1)[0:428]\n",
        "X_Portugeese = X[y == 'Portugeese'].reset_index().drop('index', axis = 1)[0:428]\n",
        "X_Italian = X[y == 'Italian'].reset_index().drop('index', axis = 1)[0:428]\n",
        "X_Russian = X[y == 'Russian'].reset_index().drop('index', axis = 1)[0:428]\n",
        "X_Sweedish = X[y == 'Sweedish'].reset_index().drop('index', axis = 1)[0:428]\n",
        "X_Dutch = X[y == 'Dutch'].reset_index().drop('index', axis = 1)[0:428]\n",
        "X_Turkish = X[y == 'Turkish'].reset_index().drop('index', axis = 1)[0:428]\n",
        "X_German = X[y == 'German'].reset_index().drop('index', axis = 1)[0:428]\n",
        "X_Danish = X[y == 'Danish'].reset_index().drop('index', axis = 1)[0:428]\n",
        "\n",
        "Data = [X_English, X_French, X_Spanish, X_Portugeese, X_Italian, X_Russian, X_Sweedish, X_Dutch, X_Turkish, X_German, X_Danish]"
      ]
    },
    {
      "cell_type": "markdown",
      "source": [
        "# Train-Test Split"
      ],
      "metadata": {
        "id": "9axCxqP1hvwJ"
      }
    },
    {
      "cell_type": "code",
      "source": [
        "trainData = []\n",
        "testData = []\n",
        "\n",
        "train_test_split = 0.7\n",
        "\n",
        "for i in range(len(Data)):\n",
        "  len_lang = len(Data[i])\n",
        "  len_train = math.floor(0.7*len_lang)\n",
        "  trainData.append(Data[i][:len_train].dropna().reset_index().drop('index', axis=1))\n",
        "  testData.append(Data[i][len_train:].dropna().reset_index().drop('index', axis=1))"
      ],
      "metadata": {
        "id": "h6sT5FVERtPi"
      },
      "execution_count": null,
      "outputs": []
    },
    {
      "cell_type": "code",
      "source": [
        "import numpy as np"
      ],
      "metadata": {
        "id": "GRZBTlmTkNni"
      },
      "execution_count": null,
      "outputs": []
    },
    {
      "cell_type": "markdown",
      "source": [
        "# Training"
      ],
      "metadata": {
        "id": "JPw0OkfOhzkJ"
      }
    },
    {
      "cell_type": "code",
      "execution_count": null,
      "metadata": {
        "id": "CqsRbArbyMtS"
      },
      "outputs": [],
      "source": [
        "def generateLetterMappings(dim):\n",
        "  letter_mappings = {}\n",
        "\n",
        "  for c in all_char_list:\n",
        "    s = np.array([])\n",
        "    for i in range(dim):\n",
        "      if(random.choice('01') == '1'): s = np.append([1], s)\n",
        "      else: s = np.append([0], s)\n",
        "    letter_mappings[c] = s.astype(int)\n",
        "\n",
        "  return letter_mappings"
      ]
    },
    {
      "cell_type": "code",
      "execution_count": null,
      "metadata": {
        "id": "JGEECKBZGO_h"
      },
      "outputs": [],
      "source": [
        "def getLangVect(dim, N_gram, trainData, letter_mappings):\n",
        "  def mul(a, b):\n",
        "    c = a^b\n",
        "    return 1-c\n",
        "\n",
        "  def transform(a, n=1):\n",
        "    arr_a = np.concatenate((a[n:], a[:n]), axis = 0)\n",
        "    return arr_a\n",
        "\n",
        "  def getV(sub_text):\n",
        "    vector_curr = letter_mappings[sub_text[0]]\n",
        "    for i in range(N_gram-1):\n",
        "      vector_curr = mul(transform(vector_curr), letter_mappings[sub_text[i+1]])\n",
        "    return vector_curr\n",
        "\n",
        "\n",
        "  def getTextVector(texts):\n",
        "    n = len(texts)\n",
        "    all_n_gram_vectors = []\n",
        "    sub_text_first = texts[:N_gram]\n",
        "    curr_vec = getV(sub_text_first)\n",
        "    # print(curr_vec)\n",
        "    all_n_gram_vectors.append(curr_vec)\n",
        "    for i in range(n-N_gram):\n",
        "      curr_vec = mul(transform(mul(transform(letter_mappings[texts[i]], N_gram-1), curr_vec)), letter_mappings[texts[i+N_gram]])\n",
        "      all_n_gram_vectors.append(curr_vec)\n",
        "\n",
        "    all_gram_vectors = np.array(all_n_gram_vectors)\n",
        "    # print(\"All gram: \", all_gram_vectors)\n",
        "    res = np.sum(all_gram_vectors, axis = 0)/all_gram_vectors.shape[0]\n",
        "    # print(\"res: \", res)\n",
        "    res = np.round_(res)\n",
        "    # print(\"rounded res: \", res)\n",
        "    res = res.astype(int)\n",
        "    # print(\"int converted\", res)\n",
        "    return res\n",
        "\n",
        "  def getLanguageVector(dataFr):\n",
        "    all_text_vectors = []\n",
        "    for i in range(len(dataFr)):\n",
        "      if(len(dataFr.at[i, 'Text'][:N_gram]) >= N_gram):\n",
        "        all_text_vectors.append(getTextVector(dataFr['Text'][i]))\n",
        "\n",
        "    all_text_vecs = np.array(all_text_vectors)\n",
        "    res = np.sum(all_text_vecs, axis = 0)/all_text_vecs.shape[0]\n",
        "    res = np.round_(res)\n",
        "    res = res.astype(int)\n",
        "    return res\n",
        "\n",
        "  language_vectors = []\n",
        "  #latin_derived = {\"English\", \"French\", \"Spanish\", \"Portugeese\", \"Italian\", \"Russian\", \"Sweedish\", \"Dutch\", \"Turkish\", \"German\", \"Danish\"}\n",
        "  start_time = time.time()\n",
        "  lang_vec_times = []\n",
        "  for i in range(len(trainData)):\n",
        "    # print(\"Getting language vector for: \",i)\n",
        "    start_lang_time = time.time()\n",
        "    language_vectors.append(getLanguageVector(trainData[i]))\n",
        "    lang_vec_times.append(time.time()-start_lang_time)\n",
        "  # getLanguageVector(trainData[2])\n",
        "  # training_time = time.time()-start_time\n",
        "\n",
        "  # print(\"Training time for each lang: \")\n",
        "  # print(lang_vec_times)\n",
        "  # print(\"Training time: \", training_time)\n",
        "  # print(\"=========================\")\n",
        "  return language_vectors"
      ]
    },
    {
      "cell_type": "markdown",
      "source": [
        "# Test"
      ],
      "metadata": {
        "id": "CAiO6LB0elbg"
      }
    },
    {
      "cell_type": "code",
      "execution_count": null,
      "metadata": {
        "id": "l1-5DnG8xK6p"
      },
      "outputs": [],
      "source": [
        "def test(dim, N_gram, testData, language_vectors, df_res):\n",
        "  def mul(a, b):\n",
        "    c = a^b\n",
        "    return 1-c\n",
        "\n",
        "  def transform(a, n=1):\n",
        "    arr_a = np.concatenate((a[n:], a[:n]), axis = 0)\n",
        "    return arr_a\n",
        "\n",
        "  def getV(sub_text):\n",
        "    vector_curr = letter_mappings[sub_text[0]]\n",
        "    for i in range(N_gram-1):\n",
        "      vector_curr = mul(transform(vector_curr), letter_mappings[sub_text[i+1]])\n",
        "    return vector_curr\n",
        "\n",
        "\n",
        "  def getTextVector(texts):\n",
        "    n = len(texts)\n",
        "    if(n < N_gram): return letter_mappings[' ']\n",
        "    all_n_gram_vectors = []\n",
        "    sub_text_first = texts[:N_gram]\n",
        "\n",
        "    curr_vec = getV(sub_text_first)\n",
        "    all_n_gram_vectors.append(curr_vec)\n",
        "    for i in range(n-N_gram):\n",
        "      curr_vec = mul(transform(mul(transform(letter_mappings[texts[i]], N_gram-1), curr_vec)), letter_mappings[texts[i+N_gram]])\n",
        "      all_n_gram_vectors.append(curr_vec)\n",
        "\n",
        "    all_gram_vectors = np.array(all_n_gram_vectors)\n",
        "    res = np.sum(all_gram_vectors, axis = 0)/all_gram_vectors.shape[0]\n",
        "    res = np.round_(res)\n",
        "    res = res.astype(int)\n",
        "    return res\n",
        "\n",
        "  def getDist(a, b):\n",
        "    d = (a == b)\n",
        "    unique_elements, counts_elements = np.unique(d, return_counts=True)\n",
        "    # print(np.array([unique_elements, counts_elements]))\n",
        "    if(len(unique_elements) == 2):\n",
        "      if(unique_elements[0] == 0):\n",
        "        return counts_elements[0]\n",
        "      else:\n",
        "        return counts_elements[1]\n",
        "    else:\n",
        "      if(unique_elements[0] == 1):\n",
        "        return 0\n",
        "      else:\n",
        "        return dim\n",
        "\n",
        "  def getClosest(text_vec):\n",
        "    min_dist = dim\n",
        "    near_lang = -1\n",
        "    # print(\"=====================\")\n",
        "    for i in range(len(language_vectors)):\n",
        "      # print(\"Distance from: \", i)\n",
        "      dist = getDist(text_vec, language_vectors[i])\n",
        "      if(dist < min_dist):\n",
        "        near_lang = i\n",
        "        min_dist = dist\n",
        "    return near_lang\n",
        "\n",
        "  def getTestAccuracy(testData):\n",
        "    overall_m = 0\n",
        "    overall_count = 0\n",
        "    lang_acc = []\n",
        "    for i in range(len(testData)):\n",
        "      m = len(testData[i])\n",
        "      overall_m = overall_m + m\n",
        "      count = 0\n",
        "      for j in range(m):\n",
        "        k = getClosest(getTextVector(testData[i].at[j, 'Text']))\n",
        "        if(i == k):\n",
        "          count= count +1\n",
        "      overall_count =overall_count + count\n",
        "      lang_acc.append((count*100)/m)\n",
        "    lang_acc.append((overall_count*100)/overall_m)\n",
        "    return lang_acc\n",
        "\n",
        "  start_test_time = time.time()\n",
        "  lang_acc = getTestAccuracy(testData)\n",
        "  # print(\"Testing time: \")\n",
        "  # print(time.time() - start_test_time)\n",
        "  # print(lang_acc)\n",
        "  df_res.loc[str(dim)] = lang_acc\n",
        "  return df_res"
      ]
    },
    {
      "cell_type": "markdown",
      "source": [
        "# Driver Code"
      ],
      "metadata": {
        "id": "8Nwrn27JeqRn"
      }
    },
    {
      "cell_type": "code",
      "source": [
        "dimensions = []\n",
        "\n",
        "for i in range(5000, 11000, 1000):\n",
        "  dimensions.append(i)\n",
        "\n",
        "N_grams = [3, 4, 5]\n",
        "# dimensions"
      ],
      "metadata": {
        "id": "_7WVlAE_uPSo"
      },
      "execution_count": null,
      "outputs": []
    },
    {
      "cell_type": "code",
      "source": [
        "df_res = pd.DataFrame(columns = ['X_English', 'X_French',\n",
        "                                 'X_Spanish', 'X_Portugeese',\n",
        "                                 'X_Italian', 'X_Russian',\n",
        "                                 'X_Sweedish', 'X_Dutch',\n",
        "                                 'X_Turkish', 'X_German',\n",
        "                                 'X_Danish', 'Total'])"
      ],
      "metadata": {
        "id": "zi6KfZ_Icbn2"
      },
      "execution_count": null,
      "outputs": []
    },
    {
      "cell_type": "code",
      "source": [
        "df_res"
      ],
      "metadata": {
        "colab": {
          "base_uri": "https://localhost:8080/",
          "height": 50
        },
        "id": "cn8GcBoHoW6E",
        "outputId": "a716a023-b25b-4bc9-f202-a17c02ca2ed9"
      },
      "execution_count": null,
      "outputs": [
        {
          "output_type": "execute_result",
          "data": {
            "text/plain": [
              "Empty DataFrame\n",
              "Columns: [X_English, X_French, X_Spanish, X_Portugeese, X_Italian, X_Russian, X_Sweedish, X_Dutch, X_Turkish, X_German, X_Danish, Total]\n",
              "Index: []"
            ],
            "text/html": [
              "\n",
              "  <div id=\"df-892bcdc5-9b8a-4c44-84bb-4fc5961f2087\">\n",
              "    <div class=\"colab-df-container\">\n",
              "      <div>\n",
              "<style scoped>\n",
              "    .dataframe tbody tr th:only-of-type {\n",
              "        vertical-align: middle;\n",
              "    }\n",
              "\n",
              "    .dataframe tbody tr th {\n",
              "        vertical-align: top;\n",
              "    }\n",
              "\n",
              "    .dataframe thead th {\n",
              "        text-align: right;\n",
              "    }\n",
              "</style>\n",
              "<table border=\"1\" class=\"dataframe\">\n",
              "  <thead>\n",
              "    <tr style=\"text-align: right;\">\n",
              "      <th></th>\n",
              "      <th>X_English</th>\n",
              "      <th>X_French</th>\n",
              "      <th>X_Spanish</th>\n",
              "      <th>X_Portugeese</th>\n",
              "      <th>X_Italian</th>\n",
              "      <th>X_Russian</th>\n",
              "      <th>X_Sweedish</th>\n",
              "      <th>X_Dutch</th>\n",
              "      <th>X_Turkish</th>\n",
              "      <th>X_German</th>\n",
              "      <th>X_Danish</th>\n",
              "      <th>Total</th>\n",
              "    </tr>\n",
              "  </thead>\n",
              "  <tbody>\n",
              "  </tbody>\n",
              "</table>\n",
              "</div>\n",
              "      <button class=\"colab-df-convert\" onclick=\"convertToInteractive('df-892bcdc5-9b8a-4c44-84bb-4fc5961f2087')\"\n",
              "              title=\"Convert this dataframe to an interactive table.\"\n",
              "              style=\"display:none;\">\n",
              "        \n",
              "  <svg xmlns=\"http://www.w3.org/2000/svg\" height=\"24px\"viewBox=\"0 0 24 24\"\n",
              "       width=\"24px\">\n",
              "    <path d=\"M0 0h24v24H0V0z\" fill=\"none\"/>\n",
              "    <path d=\"M18.56 5.44l.94 2.06.94-2.06 2.06-.94-2.06-.94-.94-2.06-.94 2.06-2.06.94zm-11 1L8.5 8.5l.94-2.06 2.06-.94-2.06-.94L8.5 2.5l-.94 2.06-2.06.94zm10 10l.94 2.06.94-2.06 2.06-.94-2.06-.94-.94-2.06-.94 2.06-2.06.94z\"/><path d=\"M17.41 7.96l-1.37-1.37c-.4-.4-.92-.59-1.43-.59-.52 0-1.04.2-1.43.59L10.3 9.45l-7.72 7.72c-.78.78-.78 2.05 0 2.83L4 21.41c.39.39.9.59 1.41.59.51 0 1.02-.2 1.41-.59l7.78-7.78 2.81-2.81c.8-.78.8-2.07 0-2.86zM5.41 20L4 18.59l7.72-7.72 1.47 1.35L5.41 20z\"/>\n",
              "  </svg>\n",
              "      </button>\n",
              "      \n",
              "  <style>\n",
              "    .colab-df-container {\n",
              "      display:flex;\n",
              "      flex-wrap:wrap;\n",
              "      gap: 12px;\n",
              "    }\n",
              "\n",
              "    .colab-df-convert {\n",
              "      background-color: #E8F0FE;\n",
              "      border: none;\n",
              "      border-radius: 50%;\n",
              "      cursor: pointer;\n",
              "      display: none;\n",
              "      fill: #1967D2;\n",
              "      height: 32px;\n",
              "      padding: 0 0 0 0;\n",
              "      width: 32px;\n",
              "    }\n",
              "\n",
              "    .colab-df-convert:hover {\n",
              "      background-color: #E2EBFA;\n",
              "      box-shadow: 0px 1px 2px rgba(60, 64, 67, 0.3), 0px 1px 3px 1px rgba(60, 64, 67, 0.15);\n",
              "      fill: #174EA6;\n",
              "    }\n",
              "\n",
              "    [theme=dark] .colab-df-convert {\n",
              "      background-color: #3B4455;\n",
              "      fill: #D2E3FC;\n",
              "    }\n",
              "\n",
              "    [theme=dark] .colab-df-convert:hover {\n",
              "      background-color: #434B5C;\n",
              "      box-shadow: 0px 1px 3px 1px rgba(0, 0, 0, 0.15);\n",
              "      filter: drop-shadow(0px 1px 2px rgba(0, 0, 0, 0.3));\n",
              "      fill: #FFFFFF;\n",
              "    }\n",
              "  </style>\n",
              "\n",
              "      <script>\n",
              "        const buttonEl =\n",
              "          document.querySelector('#df-892bcdc5-9b8a-4c44-84bb-4fc5961f2087 button.colab-df-convert');\n",
              "        buttonEl.style.display =\n",
              "          google.colab.kernel.accessAllowed ? 'block' : 'none';\n",
              "\n",
              "        async function convertToInteractive(key) {\n",
              "          const element = document.querySelector('#df-892bcdc5-9b8a-4c44-84bb-4fc5961f2087');\n",
              "          const dataTable =\n",
              "            await google.colab.kernel.invokeFunction('convertToInteractive',\n",
              "                                                     [key], {});\n",
              "          if (!dataTable) return;\n",
              "\n",
              "          const docLinkHtml = 'Like what you see? Visit the ' +\n",
              "            '<a target=\"_blank\" href=https://colab.research.google.com/notebooks/data_table.ipynb>data table notebook</a>'\n",
              "            + ' to learn more about interactive tables.';\n",
              "          element.innerHTML = '';\n",
              "          dataTable['output_type'] = 'display_data';\n",
              "          await google.colab.output.renderOutput(dataTable, element);\n",
              "          const docLink = document.createElement('div');\n",
              "          docLink.innerHTML = docLinkHtml;\n",
              "          element.appendChild(docLink);\n",
              "        }\n",
              "      </script>\n",
              "    </div>\n",
              "  </div>\n",
              "  "
            ]
          },
          "metadata": {},
          "execution_count": 80
        }
      ]
    },
    {
      "cell_type": "code",
      "execution_count": null,
      "metadata": {
        "colab": {
          "base_uri": "https://localhost:8080/"
        },
        "id": "FJ7sQtPVQtB-",
        "outputId": "4ccfedb8-b1b3-46b4-815a-84df4d116240"
      },
      "outputs": [
        {
          "output_type": "stream",
          "name": "stdout",
          "text": [
            "Dimension:  5000\n",
            "Dimension:  6000\n",
            "Dimension:  7000\n",
            "Dimension:  8000\n",
            "Dimension:  9000\n",
            "Dimension:  10000\n"
          ]
        }
      ],
      "source": [
        "for i in range(len(dimensions)):\n",
        "  dim = dimensions[i]\n",
        "  letter_mappings = generateLetterMappings(dim)\n",
        "  # print(letter_mappings)\n",
        "  # print(\"========================================================================================================================================\")\n",
        "  print(\"Dimension: \", dim)\n",
        "  N_gram = 3\n",
        "  language_vectors = getLangVect(dim, N_gram, trainData, letter_mappings)\n",
        "  # print(language_vectors)\n",
        "  df_res = test(dim, N_gram, testData, language_vectors, df_res)"
      ]
    },
    {
      "cell_type": "markdown",
      "source": [
        "# Plots\n"
      ],
      "metadata": {
        "id": "FBzlflGOixnE"
      }
    },
    {
      "cell_type": "code",
      "source": [
        "import matplotlib.pyplot as plt"
      ],
      "metadata": {
        "id": "B_t2N-VyjO3D"
      },
      "execution_count": null,
      "outputs": []
    },
    {
      "cell_type": "code",
      "source": [
        "df_res"
      ],
      "metadata": {
        "colab": {
          "base_uri": "https://localhost:8080/",
          "height": 238
        },
        "id": "auuzT__3jyIT",
        "outputId": "779c8e88-e4ba-4bea-b4b8-d58a58a618a5"
      },
      "execution_count": null,
      "outputs": [
        {
          "output_type": "execute_result",
          "data": {
            "text/plain": [
              "       X_English   X_French  X_Spanish  X_Portugeese  X_Italian  X_Russian  \\\n",
              "5000   90.697674  96.124031  93.023256     96.899225  93.798450  97.674419   \n",
              "6000   89.147287  98.449612  93.798450     97.674419  97.674419  97.674419   \n",
              "7000   87.596899  95.348837  93.023256     96.899225  96.124031  97.674419   \n",
              "8000   91.472868  97.674419  92.248062     97.674419  96.124031  97.674419   \n",
              "9000   93.023256  96.124031  95.348837     96.899225  96.124031  98.449612   \n",
              "10000  90.697674  95.348837  93.798450     98.449612  96.124031  98.449612   \n",
              "\n",
              "       X_Sweedish    X_Dutch  X_Turkish   X_German   X_Danish      Total  \n",
              "5000    68.992248  84.496124  85.271318  93.798450  90.697674  90.133897  \n",
              "6000    62.790698  83.720930  82.170543  92.248062  92.248062  89.781536  \n",
              "7000    72.868217  84.496124  82.945736  91.472868  93.798450  90.204369  \n",
              "8000    74.418605  86.821705  84.496124  93.798450  93.023256  91.402396  \n",
              "9000    67.441860  86.821705  89.147287  93.023256  90.697674  91.190980  \n",
              "10000   69.767442  87.596899  86.821705  93.798450  91.472868  91.120507  "
            ],
            "text/html": [
              "\n",
              "  <div id=\"df-f8ad797f-f403-41a4-91a5-4f22c272a8c3\">\n",
              "    <div class=\"colab-df-container\">\n",
              "      <div>\n",
              "<style scoped>\n",
              "    .dataframe tbody tr th:only-of-type {\n",
              "        vertical-align: middle;\n",
              "    }\n",
              "\n",
              "    .dataframe tbody tr th {\n",
              "        vertical-align: top;\n",
              "    }\n",
              "\n",
              "    .dataframe thead th {\n",
              "        text-align: right;\n",
              "    }\n",
              "</style>\n",
              "<table border=\"1\" class=\"dataframe\">\n",
              "  <thead>\n",
              "    <tr style=\"text-align: right;\">\n",
              "      <th></th>\n",
              "      <th>X_English</th>\n",
              "      <th>X_French</th>\n",
              "      <th>X_Spanish</th>\n",
              "      <th>X_Portugeese</th>\n",
              "      <th>X_Italian</th>\n",
              "      <th>X_Russian</th>\n",
              "      <th>X_Sweedish</th>\n",
              "      <th>X_Dutch</th>\n",
              "      <th>X_Turkish</th>\n",
              "      <th>X_German</th>\n",
              "      <th>X_Danish</th>\n",
              "      <th>Total</th>\n",
              "    </tr>\n",
              "  </thead>\n",
              "  <tbody>\n",
              "    <tr>\n",
              "      <th>5000</th>\n",
              "      <td>90.697674</td>\n",
              "      <td>96.124031</td>\n",
              "      <td>93.023256</td>\n",
              "      <td>96.899225</td>\n",
              "      <td>93.798450</td>\n",
              "      <td>97.674419</td>\n",
              "      <td>68.992248</td>\n",
              "      <td>84.496124</td>\n",
              "      <td>85.271318</td>\n",
              "      <td>93.798450</td>\n",
              "      <td>90.697674</td>\n",
              "      <td>90.133897</td>\n",
              "    </tr>\n",
              "    <tr>\n",
              "      <th>6000</th>\n",
              "      <td>89.147287</td>\n",
              "      <td>98.449612</td>\n",
              "      <td>93.798450</td>\n",
              "      <td>97.674419</td>\n",
              "      <td>97.674419</td>\n",
              "      <td>97.674419</td>\n",
              "      <td>62.790698</td>\n",
              "      <td>83.720930</td>\n",
              "      <td>82.170543</td>\n",
              "      <td>92.248062</td>\n",
              "      <td>92.248062</td>\n",
              "      <td>89.781536</td>\n",
              "    </tr>\n",
              "    <tr>\n",
              "      <th>7000</th>\n",
              "      <td>87.596899</td>\n",
              "      <td>95.348837</td>\n",
              "      <td>93.023256</td>\n",
              "      <td>96.899225</td>\n",
              "      <td>96.124031</td>\n",
              "      <td>97.674419</td>\n",
              "      <td>72.868217</td>\n",
              "      <td>84.496124</td>\n",
              "      <td>82.945736</td>\n",
              "      <td>91.472868</td>\n",
              "      <td>93.798450</td>\n",
              "      <td>90.204369</td>\n",
              "    </tr>\n",
              "    <tr>\n",
              "      <th>8000</th>\n",
              "      <td>91.472868</td>\n",
              "      <td>97.674419</td>\n",
              "      <td>92.248062</td>\n",
              "      <td>97.674419</td>\n",
              "      <td>96.124031</td>\n",
              "      <td>97.674419</td>\n",
              "      <td>74.418605</td>\n",
              "      <td>86.821705</td>\n",
              "      <td>84.496124</td>\n",
              "      <td>93.798450</td>\n",
              "      <td>93.023256</td>\n",
              "      <td>91.402396</td>\n",
              "    </tr>\n",
              "    <tr>\n",
              "      <th>9000</th>\n",
              "      <td>93.023256</td>\n",
              "      <td>96.124031</td>\n",
              "      <td>95.348837</td>\n",
              "      <td>96.899225</td>\n",
              "      <td>96.124031</td>\n",
              "      <td>98.449612</td>\n",
              "      <td>67.441860</td>\n",
              "      <td>86.821705</td>\n",
              "      <td>89.147287</td>\n",
              "      <td>93.023256</td>\n",
              "      <td>90.697674</td>\n",
              "      <td>91.190980</td>\n",
              "    </tr>\n",
              "    <tr>\n",
              "      <th>10000</th>\n",
              "      <td>90.697674</td>\n",
              "      <td>95.348837</td>\n",
              "      <td>93.798450</td>\n",
              "      <td>98.449612</td>\n",
              "      <td>96.124031</td>\n",
              "      <td>98.449612</td>\n",
              "      <td>69.767442</td>\n",
              "      <td>87.596899</td>\n",
              "      <td>86.821705</td>\n",
              "      <td>93.798450</td>\n",
              "      <td>91.472868</td>\n",
              "      <td>91.120507</td>\n",
              "    </tr>\n",
              "  </tbody>\n",
              "</table>\n",
              "</div>\n",
              "      <button class=\"colab-df-convert\" onclick=\"convertToInteractive('df-f8ad797f-f403-41a4-91a5-4f22c272a8c3')\"\n",
              "              title=\"Convert this dataframe to an interactive table.\"\n",
              "              style=\"display:none;\">\n",
              "        \n",
              "  <svg xmlns=\"http://www.w3.org/2000/svg\" height=\"24px\"viewBox=\"0 0 24 24\"\n",
              "       width=\"24px\">\n",
              "    <path d=\"M0 0h24v24H0V0z\" fill=\"none\"/>\n",
              "    <path d=\"M18.56 5.44l.94 2.06.94-2.06 2.06-.94-2.06-.94-.94-2.06-.94 2.06-2.06.94zm-11 1L8.5 8.5l.94-2.06 2.06-.94-2.06-.94L8.5 2.5l-.94 2.06-2.06.94zm10 10l.94 2.06.94-2.06 2.06-.94-2.06-.94-.94-2.06-.94 2.06-2.06.94z\"/><path d=\"M17.41 7.96l-1.37-1.37c-.4-.4-.92-.59-1.43-.59-.52 0-1.04.2-1.43.59L10.3 9.45l-7.72 7.72c-.78.78-.78 2.05 0 2.83L4 21.41c.39.39.9.59 1.41.59.51 0 1.02-.2 1.41-.59l7.78-7.78 2.81-2.81c.8-.78.8-2.07 0-2.86zM5.41 20L4 18.59l7.72-7.72 1.47 1.35L5.41 20z\"/>\n",
              "  </svg>\n",
              "      </button>\n",
              "      \n",
              "  <style>\n",
              "    .colab-df-container {\n",
              "      display:flex;\n",
              "      flex-wrap:wrap;\n",
              "      gap: 12px;\n",
              "    }\n",
              "\n",
              "    .colab-df-convert {\n",
              "      background-color: #E8F0FE;\n",
              "      border: none;\n",
              "      border-radius: 50%;\n",
              "      cursor: pointer;\n",
              "      display: none;\n",
              "      fill: #1967D2;\n",
              "      height: 32px;\n",
              "      padding: 0 0 0 0;\n",
              "      width: 32px;\n",
              "    }\n",
              "\n",
              "    .colab-df-convert:hover {\n",
              "      background-color: #E2EBFA;\n",
              "      box-shadow: 0px 1px 2px rgba(60, 64, 67, 0.3), 0px 1px 3px 1px rgba(60, 64, 67, 0.15);\n",
              "      fill: #174EA6;\n",
              "    }\n",
              "\n",
              "    [theme=dark] .colab-df-convert {\n",
              "      background-color: #3B4455;\n",
              "      fill: #D2E3FC;\n",
              "    }\n",
              "\n",
              "    [theme=dark] .colab-df-convert:hover {\n",
              "      background-color: #434B5C;\n",
              "      box-shadow: 0px 1px 3px 1px rgba(0, 0, 0, 0.15);\n",
              "      filter: drop-shadow(0px 1px 2px rgba(0, 0, 0, 0.3));\n",
              "      fill: #FFFFFF;\n",
              "    }\n",
              "  </style>\n",
              "\n",
              "      <script>\n",
              "        const buttonEl =\n",
              "          document.querySelector('#df-f8ad797f-f403-41a4-91a5-4f22c272a8c3 button.colab-df-convert');\n",
              "        buttonEl.style.display =\n",
              "          google.colab.kernel.accessAllowed ? 'block' : 'none';\n",
              "\n",
              "        async function convertToInteractive(key) {\n",
              "          const element = document.querySelector('#df-f8ad797f-f403-41a4-91a5-4f22c272a8c3');\n",
              "          const dataTable =\n",
              "            await google.colab.kernel.invokeFunction('convertToInteractive',\n",
              "                                                     [key], {});\n",
              "          if (!dataTable) return;\n",
              "\n",
              "          const docLinkHtml = 'Like what you see? Visit the ' +\n",
              "            '<a target=\"_blank\" href=https://colab.research.google.com/notebooks/data_table.ipynb>data table notebook</a>'\n",
              "            + ' to learn more about interactive tables.';\n",
              "          element.innerHTML = '';\n",
              "          dataTable['output_type'] = 'display_data';\n",
              "          await google.colab.output.renderOutput(dataTable, element);\n",
              "          const docLink = document.createElement('div');\n",
              "          docLink.innerHTML = docLinkHtml;\n",
              "          element.appendChild(docLink);\n",
              "        }\n",
              "      </script>\n",
              "    </div>\n",
              "  </div>\n",
              "  "
            ]
          },
          "metadata": {},
          "execution_count": 83
        }
      ]
    },
    {
      "cell_type": "code",
      "source": [
        "df_res['Dimension'] = dimensions"
      ],
      "metadata": {
        "id": "IuNRWogqlwkt"
      },
      "execution_count": null,
      "outputs": []
    },
    {
      "cell_type": "code",
      "source": [
        "df_res"
      ],
      "metadata": {
        "colab": {
          "base_uri": "https://localhost:8080/",
          "height": 238
        },
        "id": "PrYYHP8Bl78J",
        "outputId": "2902f669-a579-4767-ec88-1b8522a06fef"
      },
      "execution_count": null,
      "outputs": [
        {
          "output_type": "execute_result",
          "data": {
            "text/plain": [
              "       X_English   X_French  X_Spanish  X_Portugeese  X_Italian  X_Russian  \\\n",
              "5000   90.697674  96.124031  93.023256     96.899225  93.798450  97.674419   \n",
              "6000   89.147287  98.449612  93.798450     97.674419  97.674419  97.674419   \n",
              "7000   87.596899  95.348837  93.023256     96.899225  96.124031  97.674419   \n",
              "8000   91.472868  97.674419  92.248062     97.674419  96.124031  97.674419   \n",
              "9000   93.023256  96.124031  95.348837     96.899225  96.124031  98.449612   \n",
              "10000  90.697674  95.348837  93.798450     98.449612  96.124031  98.449612   \n",
              "\n",
              "       X_Sweedish    X_Dutch  X_Turkish   X_German   X_Danish      Total  \\\n",
              "5000    68.992248  84.496124  85.271318  93.798450  90.697674  90.133897   \n",
              "6000    62.790698  83.720930  82.170543  92.248062  92.248062  89.781536   \n",
              "7000    72.868217  84.496124  82.945736  91.472868  93.798450  90.204369   \n",
              "8000    74.418605  86.821705  84.496124  93.798450  93.023256  91.402396   \n",
              "9000    67.441860  86.821705  89.147287  93.023256  90.697674  91.190980   \n",
              "10000   69.767442  87.596899  86.821705  93.798450  91.472868  91.120507   \n",
              "\n",
              "       Dimension  \n",
              "5000        5000  \n",
              "6000        6000  \n",
              "7000        7000  \n",
              "8000        8000  \n",
              "9000        9000  \n",
              "10000      10000  "
            ],
            "text/html": [
              "\n",
              "  <div id=\"df-d23f47a9-0f4b-4d7a-a644-eeaef1ae4107\">\n",
              "    <div class=\"colab-df-container\">\n",
              "      <div>\n",
              "<style scoped>\n",
              "    .dataframe tbody tr th:only-of-type {\n",
              "        vertical-align: middle;\n",
              "    }\n",
              "\n",
              "    .dataframe tbody tr th {\n",
              "        vertical-align: top;\n",
              "    }\n",
              "\n",
              "    .dataframe thead th {\n",
              "        text-align: right;\n",
              "    }\n",
              "</style>\n",
              "<table border=\"1\" class=\"dataframe\">\n",
              "  <thead>\n",
              "    <tr style=\"text-align: right;\">\n",
              "      <th></th>\n",
              "      <th>X_English</th>\n",
              "      <th>X_French</th>\n",
              "      <th>X_Spanish</th>\n",
              "      <th>X_Portugeese</th>\n",
              "      <th>X_Italian</th>\n",
              "      <th>X_Russian</th>\n",
              "      <th>X_Sweedish</th>\n",
              "      <th>X_Dutch</th>\n",
              "      <th>X_Turkish</th>\n",
              "      <th>X_German</th>\n",
              "      <th>X_Danish</th>\n",
              "      <th>Total</th>\n",
              "      <th>Dimension</th>\n",
              "    </tr>\n",
              "  </thead>\n",
              "  <tbody>\n",
              "    <tr>\n",
              "      <th>5000</th>\n",
              "      <td>90.697674</td>\n",
              "      <td>96.124031</td>\n",
              "      <td>93.023256</td>\n",
              "      <td>96.899225</td>\n",
              "      <td>93.798450</td>\n",
              "      <td>97.674419</td>\n",
              "      <td>68.992248</td>\n",
              "      <td>84.496124</td>\n",
              "      <td>85.271318</td>\n",
              "      <td>93.798450</td>\n",
              "      <td>90.697674</td>\n",
              "      <td>90.133897</td>\n",
              "      <td>5000</td>\n",
              "    </tr>\n",
              "    <tr>\n",
              "      <th>6000</th>\n",
              "      <td>89.147287</td>\n",
              "      <td>98.449612</td>\n",
              "      <td>93.798450</td>\n",
              "      <td>97.674419</td>\n",
              "      <td>97.674419</td>\n",
              "      <td>97.674419</td>\n",
              "      <td>62.790698</td>\n",
              "      <td>83.720930</td>\n",
              "      <td>82.170543</td>\n",
              "      <td>92.248062</td>\n",
              "      <td>92.248062</td>\n",
              "      <td>89.781536</td>\n",
              "      <td>6000</td>\n",
              "    </tr>\n",
              "    <tr>\n",
              "      <th>7000</th>\n",
              "      <td>87.596899</td>\n",
              "      <td>95.348837</td>\n",
              "      <td>93.023256</td>\n",
              "      <td>96.899225</td>\n",
              "      <td>96.124031</td>\n",
              "      <td>97.674419</td>\n",
              "      <td>72.868217</td>\n",
              "      <td>84.496124</td>\n",
              "      <td>82.945736</td>\n",
              "      <td>91.472868</td>\n",
              "      <td>93.798450</td>\n",
              "      <td>90.204369</td>\n",
              "      <td>7000</td>\n",
              "    </tr>\n",
              "    <tr>\n",
              "      <th>8000</th>\n",
              "      <td>91.472868</td>\n",
              "      <td>97.674419</td>\n",
              "      <td>92.248062</td>\n",
              "      <td>97.674419</td>\n",
              "      <td>96.124031</td>\n",
              "      <td>97.674419</td>\n",
              "      <td>74.418605</td>\n",
              "      <td>86.821705</td>\n",
              "      <td>84.496124</td>\n",
              "      <td>93.798450</td>\n",
              "      <td>93.023256</td>\n",
              "      <td>91.402396</td>\n",
              "      <td>8000</td>\n",
              "    </tr>\n",
              "    <tr>\n",
              "      <th>9000</th>\n",
              "      <td>93.023256</td>\n",
              "      <td>96.124031</td>\n",
              "      <td>95.348837</td>\n",
              "      <td>96.899225</td>\n",
              "      <td>96.124031</td>\n",
              "      <td>98.449612</td>\n",
              "      <td>67.441860</td>\n",
              "      <td>86.821705</td>\n",
              "      <td>89.147287</td>\n",
              "      <td>93.023256</td>\n",
              "      <td>90.697674</td>\n",
              "      <td>91.190980</td>\n",
              "      <td>9000</td>\n",
              "    </tr>\n",
              "    <tr>\n",
              "      <th>10000</th>\n",
              "      <td>90.697674</td>\n",
              "      <td>95.348837</td>\n",
              "      <td>93.798450</td>\n",
              "      <td>98.449612</td>\n",
              "      <td>96.124031</td>\n",
              "      <td>98.449612</td>\n",
              "      <td>69.767442</td>\n",
              "      <td>87.596899</td>\n",
              "      <td>86.821705</td>\n",
              "      <td>93.798450</td>\n",
              "      <td>91.472868</td>\n",
              "      <td>91.120507</td>\n",
              "      <td>10000</td>\n",
              "    </tr>\n",
              "  </tbody>\n",
              "</table>\n",
              "</div>\n",
              "      <button class=\"colab-df-convert\" onclick=\"convertToInteractive('df-d23f47a9-0f4b-4d7a-a644-eeaef1ae4107')\"\n",
              "              title=\"Convert this dataframe to an interactive table.\"\n",
              "              style=\"display:none;\">\n",
              "        \n",
              "  <svg xmlns=\"http://www.w3.org/2000/svg\" height=\"24px\"viewBox=\"0 0 24 24\"\n",
              "       width=\"24px\">\n",
              "    <path d=\"M0 0h24v24H0V0z\" fill=\"none\"/>\n",
              "    <path d=\"M18.56 5.44l.94 2.06.94-2.06 2.06-.94-2.06-.94-.94-2.06-.94 2.06-2.06.94zm-11 1L8.5 8.5l.94-2.06 2.06-.94-2.06-.94L8.5 2.5l-.94 2.06-2.06.94zm10 10l.94 2.06.94-2.06 2.06-.94-2.06-.94-.94-2.06-.94 2.06-2.06.94z\"/><path d=\"M17.41 7.96l-1.37-1.37c-.4-.4-.92-.59-1.43-.59-.52 0-1.04.2-1.43.59L10.3 9.45l-7.72 7.72c-.78.78-.78 2.05 0 2.83L4 21.41c.39.39.9.59 1.41.59.51 0 1.02-.2 1.41-.59l7.78-7.78 2.81-2.81c.8-.78.8-2.07 0-2.86zM5.41 20L4 18.59l7.72-7.72 1.47 1.35L5.41 20z\"/>\n",
              "  </svg>\n",
              "      </button>\n",
              "      \n",
              "  <style>\n",
              "    .colab-df-container {\n",
              "      display:flex;\n",
              "      flex-wrap:wrap;\n",
              "      gap: 12px;\n",
              "    }\n",
              "\n",
              "    .colab-df-convert {\n",
              "      background-color: #E8F0FE;\n",
              "      border: none;\n",
              "      border-radius: 50%;\n",
              "      cursor: pointer;\n",
              "      display: none;\n",
              "      fill: #1967D2;\n",
              "      height: 32px;\n",
              "      padding: 0 0 0 0;\n",
              "      width: 32px;\n",
              "    }\n",
              "\n",
              "    .colab-df-convert:hover {\n",
              "      background-color: #E2EBFA;\n",
              "      box-shadow: 0px 1px 2px rgba(60, 64, 67, 0.3), 0px 1px 3px 1px rgba(60, 64, 67, 0.15);\n",
              "      fill: #174EA6;\n",
              "    }\n",
              "\n",
              "    [theme=dark] .colab-df-convert {\n",
              "      background-color: #3B4455;\n",
              "      fill: #D2E3FC;\n",
              "    }\n",
              "\n",
              "    [theme=dark] .colab-df-convert:hover {\n",
              "      background-color: #434B5C;\n",
              "      box-shadow: 0px 1px 3px 1px rgba(0, 0, 0, 0.15);\n",
              "      filter: drop-shadow(0px 1px 2px rgba(0, 0, 0, 0.3));\n",
              "      fill: #FFFFFF;\n",
              "    }\n",
              "  </style>\n",
              "\n",
              "      <script>\n",
              "        const buttonEl =\n",
              "          document.querySelector('#df-d23f47a9-0f4b-4d7a-a644-eeaef1ae4107 button.colab-df-convert');\n",
              "        buttonEl.style.display =\n",
              "          google.colab.kernel.accessAllowed ? 'block' : 'none';\n",
              "\n",
              "        async function convertToInteractive(key) {\n",
              "          const element = document.querySelector('#df-d23f47a9-0f4b-4d7a-a644-eeaef1ae4107');\n",
              "          const dataTable =\n",
              "            await google.colab.kernel.invokeFunction('convertToInteractive',\n",
              "                                                     [key], {});\n",
              "          if (!dataTable) return;\n",
              "\n",
              "          const docLinkHtml = 'Like what you see? Visit the ' +\n",
              "            '<a target=\"_blank\" href=https://colab.research.google.com/notebooks/data_table.ipynb>data table notebook</a>'\n",
              "            + ' to learn more about interactive tables.';\n",
              "          element.innerHTML = '';\n",
              "          dataTable['output_type'] = 'display_data';\n",
              "          await google.colab.output.renderOutput(dataTable, element);\n",
              "          const docLink = document.createElement('div');\n",
              "          docLink.innerHTML = docLinkHtml;\n",
              "          element.appendChild(docLink);\n",
              "        }\n",
              "      </script>\n",
              "    </div>\n",
              "  </div>\n",
              "  "
            ]
          },
          "metadata": {},
          "execution_count": 85
        }
      ]
    },
    {
      "cell_type": "code",
      "source": [
        "ax = plt.gca()\n",
        "\n",
        "# line plot for math marks\n",
        "# df_res.plot(kind = 'line',\n",
        "#         x = 'Dimension',\n",
        "#         y = 'X_English',\n",
        "#         color = 'green',ax = ax)\n",
        "\n",
        "# df_res.plot(kind = 'line',\n",
        "#         x = 'Dimension',\n",
        "#         y = 'X_French',\n",
        "#         color = 'yellow',ax = ax)\n",
        "\n",
        "# df_res.plot(kind = 'line',\n",
        "#         x = 'Dimension',\n",
        "#         y = 'X_Russian',\n",
        "#         color = 'red',ax = ax)\n",
        "\n",
        "df_res.plot(kind = 'line',\n",
        "        x = 'Dimension',\n",
        "        y = 'Total',\n",
        "        color = 'black',ax = ax)\n",
        "\n",
        "# df_res.plot(kind = 'line',\n",
        "#         x = 'Dimension',\n",
        "#         y = 'X_Dutch',\n",
        "#         color = 'brown',ax = ax)\n",
        "\n",
        "\n",
        "# df_res.plot(kind = 'line',\n",
        "#         x = 'Dimension',\n",
        "#         y = 'X_Italian',\n",
        "#         color = 'violet',ax = ax)\n",
        "\n",
        "# df_res.plot(kind = 'line',\n",
        "#         x = 'Dimension',\n",
        "#         y = 'X_Sweedish',\n",
        "#         color = 'blue',ax = ax)\n",
        "\n",
        "# df_res.plot(kind = 'line',\n",
        "#         x = 'Dimension',\n",
        "#         y = 'X_Turkish',\n",
        "#         color = 'purple',ax = ax)\n",
        "\n",
        "# df_res.plot(kind = 'line',\n",
        "#         x = 'Dimension',\n",
        "#         y = 'X_Danish',\n",
        "#         color = 'indigo',ax = ax)\n",
        "\n",
        "# df_res.plot(kind = 'line',\n",
        "#         x = 'Dimension',\n",
        "#         y = 'X_Spanish',\n",
        "#         color = 'cyan',ax = ax)\n",
        "\n",
        "# show the plot\n",
        "f = plt.figure()\n",
        "f.set_figwidth(40000)\n",
        "f.set_figheight(100)\n",
        "plt.show()"
      ],
      "metadata": {
        "colab": {
          "base_uri": "https://localhost:8080/",
          "height": 296
        },
        "id": "qa7g93Uci0HX",
        "outputId": "68a78e74-1b9b-4098-e82a-9680dd0c0006"
      },
      "execution_count": null,
      "outputs": [
        {
          "output_type": "display_data",
          "data": {
            "text/plain": [
              "<Figure size 432x288 with 1 Axes>"
            ],
            "image/png": "[encoded data removed]"
          },
          "metadata": {
            "needs_background": "light"
          }
        },
        {
          "output_type": "display_data",
          "data": {
            "text/plain": [
              "<Figure size 2.88e+06x7200 with 0 Axes>"
            ]
          },
          "metadata": {}
        }
      ]
    },
    {
      "cell_type": "code",
      "execution_count": null,
      "metadata": {
        "id": "aj8W3KKjUWUK"
      },
      "outputs": [],
      "source": [
        "  #{\"English\", \"French\", \"Spanish\", \"Portugeese\", \"Italian\", \"Russian\", \"Sweedish\", \"Dutch\", \"Turkish\", \"German\", \"Danish\"}\n",
        "  #Counter(\n",
        "      {'English': 1385,\n",
        "       'French': 1014,\n",
        "       'Spanish': 819,\n",
        "       'Portugeese': 739,\n",
        "       'Italian': 698,\n",
        "       'Russian': 692,\n",
        "       'Sweedish': 676,\n",
        "       'Dutch': 546,\n",
        "       'Turkish': 474,\n",
        "       'German': 470,\n",
        "       'Danish': 428}"
      ]
    }
  ],
  "metadata": {
    "colab": {
      "provenance": [],
      "toc_visible": true
    },
    "kernelspec": {
      "display_name": "Python 3",
      "name": "python3"
    },
    "language_info": {
      "name": "python"
    }
  },
  "nbformat": 4,
  "nbformat_minor": 0
}